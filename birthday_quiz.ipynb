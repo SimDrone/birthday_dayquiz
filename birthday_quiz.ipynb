{
 "cells": [
  {
   "cell_type": "code",
   "execution_count": 7,
   "id": "99a4f79a",
   "metadata": {},
   "outputs": [
    {
     "name": "stdout",
     "output_type": "stream",
     "text": [
      "1. What Season Is Your Birthday? (Winter / Spring / Summer / Autumn)Autumn\n",
      "2. What Is the Sum Of Your Birthday's 'Month and 'Day'? (EX: January first = 1+1 = 2)28\n",
      "3. What Day Is Your Birthday This Year? (Only 2021) Sunday\n",
      "Your Birthday Is  9 / 19 .\n"
     ]
    }
   ],
   "source": [
    "a = ['Winter','Spring','Summer','Autumn']\n",
    "b = ['Monday','Tuesday','Wednesday','Thursday','Friday','Saturday','Sunday']\n",
    "string = input(\"1. What Season Is Your Birthday? (Winter / Spring / Summer / Autumn)\")\n",
    "number = int(input(\"2. What Is the Sum Of Your Birthday's 'Month and 'Day'? (EX: January first = 1+1 = 2)\"))\n",
    "wday = input(\"3. What Day Is Your Birthday This Year? (Only 2021) \")\n",
    "x=y=0\n",
    "while a[x] != string:    x=x+1\n",
    "while b[y] != wday:    y=y+1\n",
    "if x<1:    f=(list(map(lambda z:number -z, (12, 1, 2))))\n",
    "else:    f=(list(map(lambda z:number - 3*x -z, range(3))))\n",
    "import pandas as pd\n",
    "data = pd.read_csv('C:/Users/J/Documents/birthday.csv')\n",
    "data_np=pd.DataFrame.to_numpy(data)\n",
    "for i in range(3):\n",
    "    c = [[55,0,5],[10,15,20],[25,30,35],[40,45,50]];    d = c[x][i]\n",
    "    for e in range(5):\n",
    "        j = d + e;       g=data_np[j][y+1]\n",
    "        if g == f[i]:\n",
    "            month = int(data_np[j][0]);            day = int(g);\n",
    "print(\"Your Birthday Is \",month,\"/\", day,\".\")"
   ]
  },
  {
   "cell_type": "code",
   "execution_count": 2,
   "id": "5e5a821e",
   "metadata": {},
   "outputs": [
    {
     "name": "stdout",
     "output_type": "stream",
     "text": [
      "1. 생일이 봄, 여름, 가을, 겨울 중 언제인가요? 가을\n",
      "2. 생일의 '월' 과 '일'을 합치면 얼마인가요? (예: 1월 1일 = 1+1 = 2) 28\n",
      "3. 올해 당신의 생일은 무슨 요일인가요? (2021년 기준) 일요일\n",
      "당신의 생일은  9 월 19 일 입니다.\n"
     ]
    }
   ],
   "source": [
    "a = ['겨울','봄','여름','가을']\n",
    "b = ['월요일','화요일','수요일','목요일','금요일','토요일','일요일']\n",
    "string = input(\"1. 생일이 봄, 여름, 가을, 겨울 중 언제인가요? \")\n",
    "number = int(input(\"2. 생일의 '월' 과 '일'을 합치면 얼마인가요? (예: 1월 1일 = 1+1 = 2) \"))\n",
    "wday = input(\"3. 올해 당신의 생일은 무슨 요일인가요? (2021년 기준) \")\n",
    "x=y=0\n",
    "while a[x] != string:    x=x+1\n",
    "while b[y] != wday:    y=y+1\n",
    "if x<1:    f=(list(map(lambda z:number -z, (12, 1, 2))))\n",
    "else:    f=(list(map(lambda z:number - 3*x -z, range(3))))\n",
    "import pandas as pd\n",
    "data = pd.read_csv('C:/Users/J/Documents/birthday.csv')\n",
    "data_np=pd.DataFrame.to_numpy(data)\n",
    "for i in range(3):\n",
    "    c = [[55,0,5],[10,15,20],[25,30,35],[40,45,50]];    d = c[x][i]\n",
    "    for e in range(5):\n",
    "        j = d + e;       g=data_np[j][y+1]\n",
    "        if g == f[i]:\n",
    "            month = int(data_np[j][0]);            day = int(g);\n",
    "print(\"당신의 생일은 \",month,\"월\", day,\"일 입니다.\")\n"
   ]
  },
  {
   "cell_type": "code",
   "execution_count": null,
   "id": "56f00e16",
   "metadata": {},
   "outputs": [],
   "source": []
  }
 ],
 "metadata": {
  "kernelspec": {
   "display_name": "Python 3",
   "language": "python",
   "name": "python3"
  },
  "language_info": {
   "codemirror_mode": {
    "name": "ipython",
    "version": 3
   },
   "file_extension": ".py",
   "mimetype": "text/x-python",
   "name": "python",
   "nbconvert_exporter": "python",
   "pygments_lexer": "ipython3",
   "version": "3.8.8"
  }
 },
 "nbformat": 4,
 "nbformat_minor": 5
}
